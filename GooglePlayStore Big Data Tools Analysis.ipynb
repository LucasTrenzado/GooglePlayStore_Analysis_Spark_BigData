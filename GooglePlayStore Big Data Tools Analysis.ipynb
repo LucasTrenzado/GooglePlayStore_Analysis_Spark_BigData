{
 "cells": [
  {
   "attachments": {},
   "cell_type": "markdown",
   "id": "f465b123",
   "metadata": {},
   "source": [
    "# Table of contents\n",
    "* [1. Abstract](#0)\n",
    "* [2. Setup](#1)\n",
    "  * [2.1 Start Hadoop](#1.1)  \n",
    "  * [2.2 Create SparkSession](#1.2)\n",
    "* [3. Creation of the dataframe & Data Cleaning](#2)\n",
    "* [4. Insights](#3)\n",
    "  * [4.1 Insight 1: Average rating of apps on Google Play Store](#3.1)\n",
    "  * [4.2 Insight 2: Average price of paid apps on Google Play Store per category](#3.2)\n",
    "  * [4.3 Insight 3: The strange case of finance apps prices](#3.3)\n",
    "  * [4.4 Insight 4: Average size and price of top 1% rated apps](#3.4)\n",
    "  * [4.4 Insight 4: Common words in positive sentiment reviews](#3.5)\n",
    "* [5. Conclusions](#4)\n"
   ]
  },
  {
   "attachments": {},
   "cell_type": "markdown",
   "id": "5adf9d8b",
   "metadata": {},
   "source": [
    "<a id='0'></a>\n",
    "# 1. Abstract & Tools"
   ]
  },
  {
   "cell_type": "markdown",
   "id": "2a022345",
   "metadata": {},
   "source": [
    "The objective of this project is to get deeper into a real data problem from the technical point of view in order to learn and understand a potential solution, using Big Data, Data Engineering and Analytics tools. This was done using NiFi for data ingestion, HDFS for storage, and Spark for processing. The first step of the project was to use NiFi to ingest the data from various sources such as CSV files, (web scraped data of 10k Play Store apps for analysing the Android market) into HDFS. This ensured that the data was properly formatted before being stored in HDFS for further processing. Once the data was stored in HDFS, I used Spark to process and analyze the data. I used Spark SQL to perform SQL-like operations on the data and Spark DataFrames to perform various data transformations and aggregations. Finally, I used Spark to generate various insights and visualizations from the processed data. I used Spark SQL to generate various statistics and Spark DataFrames to generate various insights.Overall, this project allowed me to gain hands-on experience in using NiFi, HDFS, and Spark to process and analyze large datasets. Additionally, I was able to gain valuable insights from the data, which could be used to inform decision-making and generate business value. The Play Store apps data has enormous potential to drive app-making businesses to success. Actionable insights can be drawn for developers or app owners to work on and increase the performance of their current and futures apps. The following analysis will focus on describing the current status, trends and statistics in the market."
   ]
  },
  {
   "attachments": {},
   "cell_type": "markdown",
   "id": "8d870c0e",
   "metadata": {},
   "source": [
    "<center><img src=\"Visualresource.png\"></center>"
   ]
  },
  {
   "attachments": {},
   "cell_type": "markdown",
   "id": "11e3a7e3",
   "metadata": {},
   "source": [
    "<a id='1'></a>\n",
    "# 2. Setup"
   ]
  },
  {
   "attachments": {},
   "cell_type": "markdown",
   "id": "8860ab6f",
   "metadata": {},
   "source": [
    "<a id='1.1'></a>\n",
    "### 2.1 Start Hadoop\n",
    "\n",
    "Start Hadoop\n",
    "\n",
    "Open a terminal and execute\n",
    "```sh\n",
    "hadoop-start.sh\n",
    "```"
   ]
  },
  {
   "attachments": {},
   "cell_type": "markdown",
   "id": "e21ac177",
   "metadata": {},
   "source": [
    "<a id='1.2'></a>\n",
    "### 2.2 Create SparkSession"
   ]
  },
  {
   "cell_type": "code",
   "execution_count": 1,
   "id": "13adbdd3",
   "metadata": {},
   "outputs": [],
   "source": [
    "# Import libraries\n",
    "import findspark\n",
    "import pandas as pd\n",
    "import os\n",
    "\n",
    "# Search Spark installation\n",
    "findspark.init()\n",
    "pd.set_option('display.max_colwidth', None)\n",
    "os.environ['PYSPARK_SUBMIT_ARGS']=\"--packages org.apache.spark:spark-avro_2.12:3.2.1,io.delta:delta-core_2.12:1.2.1 pyspark-shell\""
   ]
  },
  {
   "cell_type": "code",
   "execution_count": 2,
   "id": "1aed9f30",
   "metadata": {},
   "outputs": [
    {
     "name": "stderr",
     "output_type": "stream",
     "text": [
      "WARNING: An illegal reflective access operation has occurred\n",
      "WARNING: Illegal reflective access by org.apache.spark.unsafe.Platform (file:/opt/spark3/jars/spark-unsafe_2.12-3.2.1.jar) to constructor java.nio.DirectByteBuffer(long,int)\n",
      "WARNING: Please consider reporting this to the maintainers of org.apache.spark.unsafe.Platform\n",
      "WARNING: Use --illegal-access=warn to enable warnings of further illegal reflective access operations\n",
      "WARNING: All illegal access operations will be denied in a future release\n"
     ]
    },
    {
     "name": "stdout",
     "output_type": "stream",
     "text": [
      ":: loading settings :: url = jar:file:/opt/spark3/jars/ivy-2.5.0.jar!/org/apache/ivy/core/settings/ivysettings.xml\n"
     ]
    },
    {
     "name": "stderr",
     "output_type": "stream",
     "text": [
      "Ivy Default Cache set to: /home/osbdet/.ivy2/cache\n",
      "The jars for the packages stored in: /home/osbdet/.ivy2/jars\n",
      "org.apache.spark#spark-avro_2.12 added as a dependency\n",
      "io.delta#delta-core_2.12 added as a dependency\n",
      ":: resolving dependencies :: org.apache.spark#spark-submit-parent-55d2fd92-a428-4e7b-8936-022cee01099b;1.0\n",
      "\tconfs: [default]\n",
      "\tfound org.apache.spark#spark-avro_2.12;3.2.1 in central\n",
      "\tfound org.tukaani#xz;1.8 in central\n",
      "\tfound org.spark-project.spark#unused;1.0.0 in central\n",
      "\tfound io.delta#delta-core_2.12;1.2.1 in central\n",
      "\tfound io.delta#delta-storage;1.2.1 in central\n",
      "\tfound org.antlr#antlr4-runtime;4.8 in central\n",
      "\tfound org.codehaus.jackson#jackson-core-asl;1.9.13 in central\n",
      ":: resolution report :: resolve 692ms :: artifacts dl 31ms\n",
      "\t:: modules in use:\n",
      "\tio.delta#delta-core_2.12;1.2.1 from central in [default]\n",
      "\tio.delta#delta-storage;1.2.1 from central in [default]\n",
      "\torg.antlr#antlr4-runtime;4.8 from central in [default]\n",
      "\torg.apache.spark#spark-avro_2.12;3.2.1 from central in [default]\n",
      "\torg.codehaus.jackson#jackson-core-asl;1.9.13 from central in [default]\n",
      "\torg.spark-project.spark#unused;1.0.0 from central in [default]\n",
      "\torg.tukaani#xz;1.8 from central in [default]\n",
      "\t---------------------------------------------------------------------\n",
      "\t|                  |            modules            ||   artifacts   |\n",
      "\t|       conf       | number| search|dwnlded|evicted|| number|dwnlded|\n",
      "\t---------------------------------------------------------------------\n",
      "\t|      default     |   7   |   0   |   0   |   0   ||   7   |   0   |\n",
      "\t---------------------------------------------------------------------\n",
      ":: retrieving :: org.apache.spark#spark-submit-parent-55d2fd92-a428-4e7b-8936-022cee01099b\n",
      "\tconfs: [default]\n",
      "\t0 artifacts copied, 7 already retrieved (0kB/42ms)\n",
      "Setting default log level to \"WARN\".\n",
      "To adjust logging level use sc.setLogLevel(newLevel). For SparkR, use setLogLevel(newLevel).\n"
     ]
    }
   ],
   "source": [
    "from pyspark.sql.session import SparkSession\n",
    "\n",
    "spark = SparkSession.builder\\\n",
    "            .appName(\"Google Play Store Project\")\\\n",
    "            .getOrCreate()"
   ]
  },
  {
   "attachments": {},
   "cell_type": "markdown",
   "id": "b312c060",
   "metadata": {},
   "source": [
    "<a id='2'></a>\n",
    "# 3. Creation of the Dataframes & Data Cleaning"
   ]
  },
  {
   "cell_type": "code",
   "execution_count": 3,
   "id": "ed31da22",
   "metadata": {},
   "outputs": [
    {
     "name": "stderr",
     "output_type": "stream",
     "text": [
      "                                                                                \r"
     ]
    }
   ],
   "source": [
    "from pyspark.sql.functions import col\n",
    "# DataFrame creation\n",
    "Playstore = (spark.read.option(\"inferSchema\", \"true\")\n",
    "                    .option(\"header\", \"true\")\n",
    "                    .csv(\"hdfs://localhost:9000/datalake/raw/Googleplaystore/Playstore/\"))\n",
    "User_Reviews = (spark.read.option(\"inferSchema\", \"true\")\n",
    "                    .option(\"header\", \"true\")\n",
    "                    .csv(\"hdfs://localhost:9000/datalake/raw/Googleplaystore/User_Reviews/\"))\n"
   ]
  },
  {
   "cell_type": "code",
   "execution_count": 4,
   "id": "b631ccf8",
   "metadata": {},
   "outputs": [
    {
     "name": "stdout",
     "output_type": "stream",
     "text": [
      "root\n",
      " |-- App: string (nullable = true)\n",
      " |-- Translated_Review: string (nullable = true)\n",
      " |-- Sentiment: string (nullable = true)\n",
      " |-- Sentiment_Polarity: string (nullable = true)\n",
      " |-- Sentiment_Subjectivity: string (nullable = true)\n",
      "\n"
     ]
    }
   ],
   "source": [
    "# The inferred schema can be visualized using the printSchema() method\n",
    "User_Reviews.printSchema()"
   ]
  },
  {
   "cell_type": "code",
   "execution_count": 5,
   "id": "384485da",
   "metadata": {},
   "outputs": [
    {
     "name": "stdout",
     "output_type": "stream",
     "text": [
      "root\n",
      " |-- App: string (nullable = true)\n",
      " |-- Category: string (nullable = true)\n",
      " |-- Rating: string (nullable = true)\n",
      " |-- Reviews: string (nullable = true)\n",
      " |-- Size: string (nullable = true)\n",
      " |-- Installs: string (nullable = true)\n",
      " |-- Type: string (nullable = true)\n",
      " |-- Price: string (nullable = true)\n",
      " |-- Content Rating: string (nullable = true)\n",
      " |-- Genres: string (nullable = true)\n",
      " |-- Last Updated: string (nullable = true)\n",
      " |-- Current Ver: string (nullable = true)\n",
      " |-- Android Ver: string (nullable = true)\n",
      "\n"
     ]
    }
   ],
   "source": [
    "# The inferred schema can be visualized using the printSchema() method\n",
    "Playstore.printSchema()"
   ]
  },
  {
   "cell_type": "code",
   "execution_count": 6,
   "id": "40194bf2",
   "metadata": {},
   "outputs": [],
   "source": [
    "# Cleaning the data, Renaming the columns to make sure that all the columns are without any “.” and “_” instead of space on both files.\n",
    "def rename(column):\n",
    "    if column==\"#\":\n",
    "        return \"id\"\n",
    "    else:\n",
    "        return column.replace('.','').replace(' ', '_').lower()\n",
    "    "
   ]
  },
  {
   "cell_type": "code",
   "execution_count": 7,
   "id": "9cea244a",
   "metadata": {},
   "outputs": [
    {
     "name": "stdout",
     "output_type": "stream",
     "text": [
      "+--------------------+--------------------+--------------------+------------------+----------------------+\n",
      "|                 app|   translated_review|           sentiment|sentiment_polarity|sentiment_subjectivity|\n",
      "+--------------------+--------------------+--------------------+------------------+----------------------+\n",
      "|10 Best Foods for...|\"I like eat delic...| also \"\"Best Befo...|          Positive|                   1.0|\n",
      "|10 Best Foods for...|This help eating ...|            Positive|              0.25|   0.28846153846153844|\n",
      "|10 Best Foods for...|                 nan|                 nan|               nan|                   nan|\n",
      "|10 Best Foods for...|Works great espec...|            Positive|               0.4|                 0.875|\n",
      "|10 Best Foods for...|        Best idea us|            Positive|               1.0|                   0.3|\n",
      "+--------------------+--------------------+--------------------+------------------+----------------------+\n",
      "only showing top 5 rows\n",
      "\n"
     ]
    }
   ],
   "source": [
    "User_Reviews_df= User_Reviews.select([col(\"`\" + c + \"`\").alias(rename(c)) for c in User_Reviews.columns])\n",
    "User_Reviews_df.show(5,True)"
   ]
  },
  {
   "cell_type": "code",
   "execution_count": 8,
   "id": "d4c9926b",
   "metadata": {},
   "outputs": [
    {
     "name": "stdout",
     "output_type": "stream",
     "text": [
      "+--------------------+--------------+------+-------+----+-----------+----+-----+--------------+--------------------+----------------+------------------+------------+\n",
      "|                 app|      category|rating|reviews|size|   installs|type|price|content_rating|              genres|    last_updated|       current_ver| android_ver|\n",
      "+--------------------+--------------+------+-------+----+-----------+----+-----+--------------+--------------------+----------------+------------------+------------+\n",
      "|Photo Editor & Ca...|ART_AND_DESIGN|   4.1|    159| 19M|    10,000+|Free|    0|      Everyone|        Art & Design| January 7, 2018|             1.0.0|4.0.3 and up|\n",
      "| Coloring book moana|ART_AND_DESIGN|   3.9|    967| 14M|   500,000+|Free|    0|      Everyone|Art & Design;Pret...|January 15, 2018|             2.0.0|4.0.3 and up|\n",
      "|U Launcher Lite –...|ART_AND_DESIGN|   4.7|  87510|8.7M| 5,000,000+|Free|    0|      Everyone|        Art & Design|  August 1, 2018|             1.2.4|4.0.3 and up|\n",
      "|Sketch - Draw & P...|ART_AND_DESIGN|   4.5| 215644| 25M|50,000,000+|Free|    0|          Teen|        Art & Design|    June 8, 2018|Varies with device|  4.2 and up|\n",
      "|Pixel Draw - Numb...|ART_AND_DESIGN|   4.3|    967|2.8M|   100,000+|Free|    0|      Everyone|Art & Design;Crea...|   June 20, 2018|               1.1|  4.4 and up|\n",
      "+--------------------+--------------+------+-------+----+-----------+----+-----+--------------+--------------------+----------------+------------------+------------+\n",
      "only showing top 5 rows\n",
      "\n"
     ]
    }
   ],
   "source": [
    "Playstore_df= Playstore.select([col(\"`\" + c + \"`\").alias(rename(c)) for c in Playstore.columns])\n",
    "Playstore_df.show(5,True)"
   ]
  },
  {
   "cell_type": "code",
   "execution_count": 9,
   "id": "722c7571",
   "metadata": {},
   "outputs": [],
   "source": [
    "# Removing unneeded signs and characters to standardize the data formats, for changing the type of column from string to float. Also removing incoherent rows that were causing trouble\n",
    "from pyspark.sql.functions import expr,regexp_replace\n",
    "Playstore_df = Playstore_df.withColumn(\"price\", expr(\"replace(price, '$', '')\"))\\\n",
    "                        .withColumn(\"rating\", expr(\"replace(rating, 'NaN', '0')\"))\\\n",
    "                        .withColumn(\"size\", expr(\"replace(size, 'M', '000000')\"))\\\n",
    "                        .withColumn(\"size\", expr(\"replace(size, 'k', '000')\"))\\\n",
    "                        .withColumn(\"size\", expr(\"replace(size, '.', '')\"))\\\n",
    "                        .withColumn(\"size\", expr(\"replace(size, 'Varies with device', '39000000')\"))\\\n",
    "                \n",
    "Playstore_df = Playstore_df.filter((Playstore_df.app != 'Life Made WI-Fi Touchscreen Photo Frame'))\\\n",
    "                            .filter((Playstore_df.app != '\"Women\"\"s Health Tips(Breast'))\n",
    "                                                   \n",
    "                                  "
   ]
  },
  {
   "cell_type": "code",
   "execution_count": 10,
   "id": "c782e443",
   "metadata": {},
   "outputs": [],
   "source": [
    "User_Reviews_df = User_Reviews_df.filter(User_Reviews_df.sentiment!='nan')"
   ]
  },
  {
   "cell_type": "code",
   "execution_count": 11,
   "id": "0519395d",
   "metadata": {},
   "outputs": [
    {
     "name": "stderr",
     "output_type": "stream",
     "text": [
      "                                                                                \r"
     ]
    },
    {
     "data": {
      "text/plain": [
       "[None]"
      ]
     },
     "execution_count": 11,
     "metadata": {},
     "output_type": "execute_result"
    }
   ],
   "source": [
    "# Creating 2 functions to save the cleaned data as a parquet file\n",
    "def save(df,f):\n",
    "    (df.write.mode(\"overwrite\")\n",
    "            .format(f)\n",
    "            .save(f\"hdfs://localhost:9000/datalake/raw/Googleplaystore/Playstore.{f}/\"))\n",
    "\n",
    "[save(Playstore_df,f) for f in [\"parquet\"]]\n"
   ]
  },
  {
   "cell_type": "code",
   "execution_count": 12,
   "id": "1e7febde",
   "metadata": {},
   "outputs": [
    {
     "name": "stderr",
     "output_type": "stream",
     "text": [
      "                                                                                \r"
     ]
    },
    {
     "data": {
      "text/plain": [
       "[None]"
      ]
     },
     "execution_count": 12,
     "metadata": {},
     "output_type": "execute_result"
    }
   ],
   "source": [
    "\n",
    "def save2(df,f):\n",
    "    (df.write.mode(\"overwrite\")\n",
    "            .format(f)\n",
    "            .save(f\"hdfs://localhost:9000/datalake/raw/Googleplaystore/User_Reviews.{f}/\"))\n",
    "\n",
    "[save2(User_Reviews_df,f) for f in [\"parquet\"]]\n"
   ]
  },
  {
   "cell_type": "code",
   "execution_count": 13,
   "id": "42ff301e",
   "metadata": {},
   "outputs": [],
   "source": [
    "User_Reviews_df = spark.read.parquet(\"hdfs://localhost:9000/datalake/raw/Googleplaystore/User_Reviews.parquet\")\n",
    "Playstore_df = spark.read.parquet(\"hdfs://localhost:9000/datalake/raw/Googleplaystore/Playstore.parquet\")"
   ]
  },
  {
   "cell_type": "code",
   "execution_count": 14,
   "id": "df1a2e5a",
   "metadata": {},
   "outputs": [
    {
     "name": "stdout",
     "output_type": "stream",
     "text": [
      "root\n",
      " |-- app: string (nullable = true)\n",
      " |-- category: string (nullable = true)\n",
      " |-- rating: string (nullable = true)\n",
      " |-- reviews: string (nullable = true)\n",
      " |-- size: string (nullable = true)\n",
      " |-- installs: string (nullable = true)\n",
      " |-- type: string (nullable = true)\n",
      " |-- price: string (nullable = true)\n",
      " |-- content_rating: string (nullable = true)\n",
      " |-- genres: string (nullable = true)\n",
      "\n"
     ]
    }
   ],
   "source": [
    "Playstore_df_clean = Playstore_df.drop(\"current_ver\",\"android_ver\",\"last_updated\")\n",
    "Playstore_df_clean.printSchema()"
   ]
  },
  {
   "cell_type": "code",
   "execution_count": 15,
   "id": "74650714",
   "metadata": {},
   "outputs": [
    {
     "name": "stdout",
     "output_type": "stream",
     "text": [
      "root\n",
      " |-- app: string (nullable = true)\n",
      " |-- translated_review: string (nullable = true)\n",
      " |-- sentiment: string (nullable = true)\n",
      " |-- sentiment_polarity: string (nullable = true)\n",
      "\n"
     ]
    }
   ],
   "source": [
    "User_Reviews_clean = User_Reviews_df.drop(\"sentiment_subjectivity\")\n",
    "User_Reviews_clean.printSchema()"
   ]
  },
  {
   "cell_type": "code",
   "execution_count": 16,
   "id": "460e288b",
   "metadata": {},
   "outputs": [
    {
     "name": "stdout",
     "output_type": "stream",
     "text": [
      "root\n",
      " |-- app: string (nullable = true)\n",
      " |-- category: string (nullable = true)\n",
      " |-- rating: float (nullable = true)\n",
      " |-- reviews: integer (nullable = true)\n",
      " |-- size: string (nullable = true)\n",
      " |-- installs: string (nullable = true)\n",
      " |-- type: string (nullable = true)\n",
      " |-- price: float (nullable = true)\n",
      " |-- content_rating: string (nullable = true)\n",
      " |-- genres: string (nullable = true)\n",
      "\n"
     ]
    }
   ],
   "source": [
    "from pyspark.sql.types import *\n",
    "Playstore_df_clean = Playstore_df_clean \\\n",
    "  .withColumn(\"rating\" ,\n",
    "              Playstore_df[\"rating\"]\n",
    "              .cast(FloatType()))   \\\n",
    "  .withColumn(\"price\" ,\n",
    "              Playstore_df[\"price\"]\n",
    "              .cast(FloatType()))   \\\n",
    "  .withColumn(\"reviews\" ,\n",
    "              Playstore_df[\"reviews\"]\n",
    "              .cast(IntegerType()))   \\\n",
    "  \n",
    "Playstore_df_clean.printSchema()"
   ]
  },
  {
   "cell_type": "code",
   "execution_count": 18,
   "id": "26deb95e",
   "metadata": {},
   "outputs": [
    {
     "name": "stdout",
     "output_type": "stream",
     "text": [
      "root\n",
      " |-- app: string (nullable = true)\n",
      " |-- translated_review: string (nullable = true)\n",
      " |-- sentiment: string (nullable = true)\n",
      " |-- Sentiment_Polarity: float (nullable = true)\n",
      "\n"
     ]
    }
   ],
   "source": [
    "User_Reviews_clean = User_Reviews_clean \\\n",
    "  .withColumn(\"Sentiment_Polarity\" ,\n",
    "              User_Reviews_df[\"Sentiment_Polarity\"]\n",
    "              .cast(FloatType()))   \\\n",
    "\n",
    "User_Reviews_clean.printSchema()"
   ]
  },
  {
   "cell_type": "code",
   "execution_count": 19,
   "id": "8db7baa4",
   "metadata": {},
   "outputs": [
    {
     "name": "stderr",
     "output_type": "stream",
     "text": [
      "                                                                                \r"
     ]
    },
    {
     "data": {
      "text/html": [
       "<div>\n",
       "<style scoped>\n",
       "    .dataframe tbody tr th:only-of-type {\n",
       "        vertical-align: middle;\n",
       "    }\n",
       "\n",
       "    .dataframe tbody tr th {\n",
       "        vertical-align: top;\n",
       "    }\n",
       "\n",
       "    .dataframe thead th {\n",
       "        text-align: right;\n",
       "    }\n",
       "</style>\n",
       "<table border=\"1\" class=\"dataframe\">\n",
       "  <thead>\n",
       "    <tr style=\"text-align: right;\">\n",
       "      <th></th>\n",
       "      <th>summary</th>\n",
       "      <th>app</th>\n",
       "      <th>translated_review</th>\n",
       "      <th>sentiment</th>\n",
       "      <th>Sentiment_Polarity</th>\n",
       "    </tr>\n",
       "  </thead>\n",
       "  <tbody>\n",
       "    <tr>\n",
       "      <th>0</th>\n",
       "      <td>count</td>\n",
       "      <td>37432</td>\n",
       "      <td>37427</td>\n",
       "      <td>37432</td>\n",
       "      <td>36784</td>\n",
       "    </tr>\n",
       "    <tr>\n",
       "      <th>1</th>\n",
       "      <td>mean</td>\n",
       "      <td>None</td>\n",
       "      <td>81759.0</td>\n",
       "      <td>None</td>\n",
       "      <td>0.183257177792301</td>\n",
       "    </tr>\n",
       "    <tr>\n",
       "      <th>2</th>\n",
       "      <td>stddev</td>\n",
       "      <td>None</td>\n",
       "      <td>None</td>\n",
       "      <td>None</td>\n",
       "      <td>0.35310687212555236</td>\n",
       "    </tr>\n",
       "    <tr>\n",
       "      <th>3</th>\n",
       "      <td>min</td>\n",
       "      <td>10 Best Foods for You</td>\n",
       "      <td>!!!Dont waste time! Failed Samsung flagship phone galaxy s8, Installed ,shows rotating circle internet download, keeps rotates forever proper progress indication; finally shows failed download. Stupid game developers. Go NFS working good.</td>\n",
       "      <td>\"\"Bell\"\"</td>\n",
       "      <td>-1.0</td>\n",
       "    </tr>\n",
       "    <tr>\n",
       "      <th>4</th>\n",
       "      <td>25%</td>\n",
       "      <td>None</td>\n",
       "      <td>81759.0</td>\n",
       "      <td>None</td>\n",
       "      <td>0.0</td>\n",
       "    </tr>\n",
       "    <tr>\n",
       "      <th>5</th>\n",
       "      <td>50%</td>\n",
       "      <td>None</td>\n",
       "      <td>81759.0</td>\n",
       "      <td>None</td>\n",
       "      <td>0.15</td>\n",
       "    </tr>\n",
       "    <tr>\n",
       "      <th>6</th>\n",
       "      <td>75%</td>\n",
       "      <td>None</td>\n",
       "      <td>81759.0</td>\n",
       "      <td>None</td>\n",
       "      <td>0.40833333</td>\n",
       "    </tr>\n",
       "    <tr>\n",
       "      <th>7</th>\n",
       "      <td>max</td>\n",
       "      <td>Housing-Real Estate &amp; Property</td>\n",
       "      <td>搵楼租楼 A lot of time, a lot of time management, easy to take care of</td>\n",
       "      <td>that unbelievable!! Then</td>\n",
       "      <td>1.0</td>\n",
       "    </tr>\n",
       "  </tbody>\n",
       "</table>\n",
       "</div>"
      ],
      "text/plain": [
       "  summary                             app  \\\n",
       "0   count                           37432   \n",
       "1    mean                            None   \n",
       "2  stddev                            None   \n",
       "3     min           10 Best Foods for You   \n",
       "4     25%                            None   \n",
       "5     50%                            None   \n",
       "6     75%                            None   \n",
       "7     max  Housing-Real Estate & Property   \n",
       "\n",
       "                                                                                                                                                                                                                                translated_review  \\\n",
       "0                                                                                                                                                                                                                                           37427   \n",
       "1                                                                                                                                                                                                                                         81759.0   \n",
       "2                                                                                                                                                                                                                                            None   \n",
       "3  !!!Dont waste time! Failed Samsung flagship phone galaxy s8, Installed ,shows rotating circle internet download, keeps rotates forever proper progress indication; finally shows failed download. Stupid game developers. Go NFS working good.   \n",
       "4                                                                                                                                                                                                                                         81759.0   \n",
       "5                                                                                                                                                                                                                                         81759.0   \n",
       "6                                                                                                                                                                                                                                         81759.0   \n",
       "7                                                                                                                                                                              搵楼租楼 A lot of time, a lot of time management, easy to take care of   \n",
       "\n",
       "                  sentiment   Sentiment_Polarity  \n",
       "0                     37432                36784  \n",
       "1                      None    0.183257177792301  \n",
       "2                      None  0.35310687212555236  \n",
       "3                  \"\"Bell\"\"                 -1.0  \n",
       "4                      None                  0.0  \n",
       "5                      None                 0.15  \n",
       "6                      None           0.40833333  \n",
       "7  that unbelievable!! Then                  1.0  "
      ]
     },
     "execution_count": 19,
     "metadata": {},
     "output_type": "execute_result"
    }
   ],
   "source": [
    "User_Reviews_clean_summary = User_Reviews_clean.summary()\n",
    "User_Reviews_clean_summary.toPandas()"
   ]
  },
  {
   "cell_type": "code",
   "execution_count": 78,
   "id": "13691952",
   "metadata": {},
   "outputs": [
    {
     "data": {
      "text/plain": [
       "10839"
      ]
     },
     "execution_count": 78,
     "metadata": {},
     "output_type": "execute_result"
    }
   ],
   "source": [
    "User_Reviews_clean\n",
    "Playstore_df_clean.count()"
   ]
  },
  {
   "attachments": {},
   "cell_type": "markdown",
   "id": "cf9431e4",
   "metadata": {},
   "source": [
    "<a id='3'></a>\n",
    "# 4. Insights"
   ]
  },
  {
   "attachments": {},
   "cell_type": "markdown",
   "id": "c44da9fe",
   "metadata": {},
   "source": [
    "<a id='3.1'></a>\n",
    "### 4.1 Insight 1: Average rating of apps on Google Play Store"
   ]
  },
  {
   "cell_type": "code",
   "execution_count": 38,
   "id": "67f7ded9",
   "metadata": {},
   "outputs": [
    {
     "name": "stdout",
     "output_type": "stream",
     "text": [
      "3.6216460568237445\n"
     ]
    }
   ],
   "source": [
    "# Finding the average rating of apps on Google Play Store:\n",
    "import pyspark.sql.functions as F\n",
    "\n",
    "mean= Playstore_df_clean.select(F.mean('rating').alias('mean'))\n",
    "\n",
    "rating_mean = mean.collect()[0][0]\n",
    "print (rating_mean)"
   ]
  },
  {
   "attachments": {},
   "cell_type": "markdown",
   "id": "43065028",
   "metadata": {},
   "source": [
    "<a id='3.2'></a>\n",
    "### 4.2 Insight 2: Average price of paid apps on Google Play Store per category"
   ]
  },
  {
   "cell_type": "code",
   "execution_count": 61,
   "id": "e8e6fb68",
   "metadata": {},
   "outputs": [
    {
     "name": "stdout",
     "output_type": "stream",
     "text": [
      "+-------------------+------------------+\n",
      "|           category|        avg(price)|\n",
      "+-------------------+------------------+\n",
      "|            FINANCE|170.63705473787644|\n",
      "|          LIFESTYLE|124.25631326123288|\n",
      "|             EVENTS|109.98999786376953|\n",
      "|           BUSINESS|13.233571120670863|\n",
      "|            MEDICAL|13.210642084069208|\n",
      "|             FAMILY|12.747539031567998|\n",
      "|       PRODUCTIVITY|  8.96178584439414|\n",
      "|        PHOTOGRAPHY| 6.100454460490834|\n",
      "|MAPS_AND_NAVIGATION| 5.389999914169311|\n",
      "|             SOCIAL| 5.323333263397217|\n",
      "|          PARENTING| 4.789999961853027|\n",
      "|          EDUCATION| 4.489999949932098|\n",
      "|             DATING| 4.489999941417149|\n",
      "|  AUTO_AND_VEHICLES| 4.489999930063884|\n",
      "|BOOKS_AND_REFERENCE| 4.277499871594565|\n",
      "|     FOOD_AND_DRINK| 4.239999890327454|\n",
      "| HEALTH_AND_FITNESS| 4.208749920129776|\n",
      "|             SPORTS|4.1666666467984514|\n",
      "|   TRAVEL_AND_LOCAL| 4.162499924500783|\n",
      "|            WEATHER| 4.052499920129776|\n",
      "|      ENTERTAINMENT|3.9899998903274536|\n",
      "|               GAME| 3.461445720798998|\n",
      "|              TOOLS|3.4262820054323244|\n",
      "|      COMMUNICATION| 3.079259236653646|\n",
      "|           SHOPPING| 2.740000009536743|\n",
      "|      VIDEO_PLAYERS|2.6149999499320984|\n",
      "| NEWS_AND_MAGAZINES|1.9900000095367432|\n",
      "|     ART_AND_DESIGN|1.9900000095367432|\n",
      "|    PERSONALIZATION|1.8549397508782077|\n",
      "| LIBRARIES_AND_DEMO|0.9900000095367432|\n",
      "+-------------------+------------------+\n",
      "\n"
     ]
    }
   ],
   "source": [
    "# Cheapest and most expensive categories on average (not including the free apps): Most expensive category: “Finance”, Cheapest category: “Libraries and Demo”\n",
    "price_category = (Playstore_df_clean.where(\"price > 0\").groupBy(\"category\").mean(\"price\").sort(F.desc(\"Avg(price)\")))\n",
    "price_category.show(50)"
   ]
  },
  {
   "cell_type": "code",
   "execution_count": 73,
   "id": "6f2951fc",
   "metadata": {},
   "outputs": [
    {
     "name": "stdout",
     "output_type": "stream",
     "text": [
      "+-------------------+-----+------------------+\n",
      "|           category|count|          avgprice|\n",
      "+-------------------+-----+------------------+\n",
      "|            FINANCE|   17|170.63705473787644|\n",
      "|          LIFESTYLE|   19|124.25631326123288|\n",
      "|             EVENTS|    1|109.98999786376953|\n",
      "|           BUSINESS|   14|13.233571120670863|\n",
      "|            MEDICAL|  109|13.210642084069208|\n",
      "|             FAMILY|  191|12.747539031567998|\n",
      "|       PRODUCTIVITY|   28|  8.96178584439414|\n",
      "|        PHOTOGRAPHY|   22| 6.100454460490834|\n",
      "|MAPS_AND_NAVIGATION|    5| 5.389999914169311|\n",
      "|             SOCIAL|    3| 5.323333263397217|\n",
      "|          PARENTING|    2| 4.789999961853027|\n",
      "|          EDUCATION|    4| 4.489999949932098|\n",
      "|             DATING|    7| 4.489999941417149|\n",
      "|  AUTO_AND_VEHICLES|    3| 4.489999930063884|\n",
      "|BOOKS_AND_REFERENCE|   28| 4.277499871594565|\n",
      "|     FOOD_AND_DRINK|    2| 4.239999890327454|\n",
      "| HEALTH_AND_FITNESS|   16| 4.208749920129776|\n",
      "|             SPORTS|   24|4.1666666467984514|\n",
      "|   TRAVEL_AND_LOCAL|   12| 4.162499924500783|\n",
      "|            WEATHER|    8| 4.052499920129776|\n",
      "|      ENTERTAINMENT|    2|3.9899998903274536|\n",
      "|               GAME|   83| 3.461445720798998|\n",
      "|              TOOLS|   78|3.4262820054323244|\n",
      "|      COMMUNICATION|   27| 3.079259236653646|\n",
      "|           SHOPPING|    2| 2.740000009536743|\n",
      "|      VIDEO_PLAYERS|    4|2.6149999499320984|\n",
      "| NEWS_AND_MAGAZINES|    2|1.9900000095367432|\n",
      "|     ART_AND_DESIGN|    3|1.9900000095367432|\n",
      "|    PERSONALIZATION|   83|1.8549397508782077|\n",
      "| LIBRARIES_AND_DEMO|    1|0.9900000095367432|\n",
      "+-------------------+-----+------------------+\n",
      "\n"
     ]
    }
   ],
   "source": [
    "Playstore_df_clean.where(\"price > 0\").groupBy(\"category\").agg(F.count(\"price\").alias(\"count\"),F.mean(\"price\")\n",
    "                                                              .alias(\"avgprice\")).sort(F.desc(\"avgprice\")).show(50)"
   ]
  },
  {
   "attachments": {},
   "cell_type": "markdown",
   "id": "7f29d444",
   "metadata": {},
   "source": [
    "<a id='3.3'></a>\n",
    "### 4.3 Insight 3: The strange case of finance apps prices"
   ]
  },
  {
   "attachments": {},
   "cell_type": "markdown",
   "id": "d87a4dd6",
   "metadata": {},
   "source": [
    "170$ on average ? Seems odd, let's check these apps."
   ]
  },
  {
   "cell_type": "code",
   "execution_count": 77,
   "id": "01338de9",
   "metadata": {},
   "outputs": [
    {
     "name": "stdout",
     "output_type": "stream",
     "text": [
      "+--------------------+--------+------+-------+--------+--------+----+------+--------------+-------+\n",
      "|                 app|category|rating|reviews|    size|installs|type| price|content_rating| genres|\n",
      "+--------------------+--------+------+-------+--------+--------+----+------+--------------+-------+\n",
      "|   I Am Rich Premium| FINANCE|   4.1|   1867|47000000| 50,000+|Paid|399.99|      Everyone|Finance|\n",
      "|           I am Rich| FINANCE|   4.3|    180|38000000|  5,000+|Paid|399.99|      Everyone|Finance|\n",
      "|          I am Rich!| FINANCE|   3.8|     93|22000000|  1,000+|Paid|399.99|      Everyone|Finance|\n",
      "|  I am rich(premium)| FINANCE|   3.5|    472|  965000|  5,000+|Paid|399.99|      Everyone|Finance|\n",
      "|I am rich (Most e...| FINANCE|   4.1|    129|27000000|  1,000+|Paid|399.99|          Teen|Finance|\n",
      "+--------------------+--------+------+-------+--------+--------+----+------+--------------+-------+\n",
      "only showing top 5 rows\n",
      "\n"
     ]
    }
   ],
   "source": [
    "Playstore_df_clean.where(\"category == 'FINANCE'\").sort(F.desc(\"price\")).show(5)"
   ]
  },
  {
   "attachments": {},
   "cell_type": "markdown",
   "id": "d4633268",
   "metadata": {},
   "source": [
    "They are trash/troll apps, but people still buy them and their price is over the top."
   ]
  },
  {
   "attachments": {},
   "cell_type": "markdown",
   "id": "89075a08",
   "metadata": {},
   "source": [
    "<a id='3.4'></a>\n",
    "### 4.4 Insight 4: Average size and price of top 1% rated apps"
   ]
  },
  {
   "cell_type": "code",
   "execution_count": 93,
   "id": "f3324f43",
   "metadata": {},
   "outputs": [],
   "source": [
    "row_num = int(Playstore_df_clean.count()*0.01)\n",
    "\n",
    "top_rated = Playstore_df_clean.sort(F.desc(\"rating\")).take(row_num)\n"
   ]
  },
  {
   "cell_type": "code",
   "execution_count": 100,
   "id": "88da4ebc",
   "metadata": {},
   "outputs": [],
   "source": [
    "top_rated_df = spark.createDataFrame(top_rated)"
   ]
  },
  {
   "cell_type": "code",
   "execution_count": 104,
   "id": "ade24eb0",
   "metadata": {},
   "outputs": [
    {
     "name": "stdout",
     "output_type": "stream",
     "text": [
      "+------------------+\n",
      "|        price_mean|\n",
      "+------------------+\n",
      "|0.5937036960213272|\n",
      "+------------------+\n",
      "\n"
     ]
    }
   ],
   "source": [
    "top_rated_df.select(F.mean(\"price\").alias(\"price_mean\")).show()"
   ]
  },
  {
   "attachments": {},
   "cell_type": "markdown",
   "id": "27be7d06",
   "metadata": {},
   "source": [
    "Average price of top 1% rated apps is 0.59$"
   ]
  },
  {
   "cell_type": "code",
   "execution_count": 105,
   "id": "7c6d76d8",
   "metadata": {},
   "outputs": [
    {
     "name": "stdout",
     "output_type": "stream",
     "text": [
      "+-------------------+\n",
      "|          size_mean|\n",
      "+-------------------+\n",
      "|3.667187037037037E7|\n",
      "+-------------------+\n",
      "\n"
     ]
    }
   ],
   "source": [
    "top_rated_df.select(F.mean(\"size\").alias(\"size_mean\")).show()"
   ]
  },
  {
   "attachments": {},
   "cell_type": "markdown",
   "id": "2cc8cdee",
   "metadata": {},
   "source": [
    "Average size of top 1% rated apps is 3.66MB"
   ]
  },
  {
   "attachments": {},
   "cell_type": "markdown",
   "id": "24aa163a",
   "metadata": {},
   "source": [
    "<a id='3.5'></a>\n",
    "### 4.5 Insight 5: Common words in positive sentiment reviews"
   ]
  },
  {
   "cell_type": "code",
   "execution_count": 108,
   "id": "29cb8bb3",
   "metadata": {},
   "outputs": [
    {
     "name": "stdout",
     "output_type": "stream",
     "text": [
      "+--------------------+--------------------+--------------------+------------------+\n",
      "|                 app|   translated_review|           sentiment|Sentiment_Polarity|\n",
      "+--------------------+--------------------+--------------------+------------------+\n",
      "|10 Best Foods for...|\"I like eat delic...| also \"\"Best Befo...|              null|\n",
      "+--------------------+--------------------+--------------------+------------------+\n",
      "only showing top 1 row\n",
      "\n"
     ]
    }
   ],
   "source": [
    "User_Reviews_clean.show(1)"
   ]
  },
  {
   "cell_type": "code",
   "execution_count": 111,
   "id": "c0fce7b1",
   "metadata": {},
   "outputs": [
    {
     "name": "stdout",
     "output_type": "stream",
     "text": [
      "+--------------------+--------------------+--------------------+------------------+---------+\n",
      "|                 app|   translated_review|           sentiment|Sentiment_Polarity|wordCount|\n",
      "+--------------------+--------------------+--------------------+------------------+---------+\n",
      "|10 Best Foods for...|\"I like eat delic...| also \"\"Best Befo...|              null|       16|\n",
      "|10 Best Foods for...|This help eating ...|            Positive|              0.25|        7|\n",
      "|10 Best Foods for...|Works great espec...|            Positive|               0.4|        6|\n",
      "|10 Best Foods for...|        Best idea us|            Positive|               1.0|        3|\n",
      "|10 Best Foods for...|            Best way|            Positive|               1.0|        2|\n",
      "|10 Best Foods for...|             Amazing|            Positive|               0.6|        1|\n",
      "|10 Best Foods for...|Looking forward app,|             Neutral|               0.0|        3|\n",
      "|10 Best Foods for...|It helpful site !...|             Neutral|               0.0|        9|\n",
      "|10 Best Foods for...|           good you.|            Positive|               0.7|        2|\n",
      "|10 Best Foods for...|Useful informatio...|            Positive|               0.2|       15|\n",
      "|10 Best Foods for...|Thank you! Great ...|            Positive|              0.75|       13|\n",
      "|10 Best Foods for...|Greatest ever Com...|            Positive|         0.9921875|       12|\n",
      "|10 Best Foods for...|Good health.........|            Positive|              0.55|        6|\n",
      "|10 Best Foods for...|Health It's impor...|            Positive|              0.45|        9|\n",
      "|10 Best Foods for...|Mrs sunita bhati ...|            Positive|               0.6|       14|\n",
      "|10 Best Foods for...|Very Useful in di...|            Positive|             0.295|       11|\n",
      "|10 Best Foods for...|  One greatest apps.|            Positive|               1.0|        3|\n",
      "|10 Best Foods for...|           good nice|            Positive|              0.65|        2|\n",
      "|10 Best Foods for...|Healthy Really he...|            Positive|              0.35|        3|\n",
      "|10 Best Foods for...|          God health|             Neutral|               0.0|        2|\n",
      "+--------------------+--------------------+--------------------+------------------+---------+\n",
      "only showing top 20 rows\n",
      "\n"
     ]
    }
   ],
   "source": [
    "words = User_Reviews_clean.withColumn('wordCount', F.size(F.split(F.col('translated_review'), ' ')))\n",
    "words.show()"
   ]
  },
  {
   "cell_type": "code",
   "execution_count": 118,
   "id": "4d78adf3",
   "metadata": {},
   "outputs": [
    {
     "name": "stdout",
     "output_type": "stream",
     "text": [
      "+------+-----+\n",
      "|  word|count|\n",
      "+------+-----+\n",
      "|     I|21476|\n",
      "|  game| 3389|\n",
      "|  like| 3380|\n",
      "|  good| 3008|\n",
      "|   The| 2965|\n",
      "|  love| 2903|\n",
      "|    It| 2773|\n",
      "|   get| 2721|\n",
      "|  This| 2518|\n",
      "| great| 2248|\n",
      "| would| 2171|\n",
      "|  time| 1962|\n",
      "|really| 1959|\n",
      "|  app.| 1907|\n",
      "|  It's| 1887|\n",
      "|   I'm| 1564|\n",
      "| Great| 1502|\n",
      "|  much| 1502|\n",
      "|  many| 1492|\n",
      "|  easy| 1437|\n",
      "|   it.| 1436|\n",
      "|  even| 1365|\n",
      "|  make| 1284|\n",
      "|   new| 1264|\n",
      "|  I've| 1231|\n",
      "|  best| 1217|\n",
      "|   way| 1179|\n",
      "| can't| 1164|\n",
      "|  want| 1139|\n",
      "|  need| 1133|\n",
      "|better| 1122|\n",
      "|  Very| 1118|\n",
      "|   But| 1069|\n",
      "|  Good| 1066|\n",
      "|  play| 1034|\n",
      "|   see| 1027|\n",
      "| using| 1023|\n",
      "| could| 1022|\n",
      "|  Love| 1021|\n",
      "|  also| 1013|\n",
      "|  free| 1011|\n",
      "|  able|  995|\n",
      "| phone|  988|\n",
      "| still|  916|\n",
      "|   ads|  913|\n",
      "|  work|  909|\n",
      "| every|  907|\n",
      "|update|  905|\n",
      "|  nice|  905|\n",
      "|   fun|  902|\n",
      "+------+-----+\n",
      "only showing top 50 rows\n",
      "\n"
     ]
    }
   ],
   "source": [
    "User_Reviews_clean.where(\"sentiment == 'Positive'\").withColumn('word', F.explode(F.split(F.col('translated_review'), ' ')))\\\n",
    "    .groupBy('word')\\\n",
    "    .count()\\\n",
    "    .sort('count', ascending=False)\\\n",
    "    .show(50)"
   ]
  },
  {
   "attachments": {},
   "cell_type": "markdown",
   "id": "aaad64a3",
   "metadata": {},
   "source": [
    "Most repeated words include: good, love, better, like , great, easy, best, free, nice, fun"
   ]
  },
  {
   "attachments": {},
   "cell_type": "markdown",
   "id": "f35e2ab3",
   "metadata": {},
   "source": [
    "<a id='4'></a>\n",
    "# 5 Conclusions"
   ]
  },
  {
   "attachments": {},
   "cell_type": "markdown",
   "id": "4f03970e",
   "metadata": {},
   "source": [
    "In conclusion, the data analysis project found that the average rating of active apps on the Google Play Store is 3.62 stars out of 5. The cheapest paid app category is \"Library & Demo\" and the most expensive paid app category is \"Finance.\" The top rated apps are found to have an average size of 3.66MB and an average price of $0.59. Furthermore, words that were frequently repeated in positive reviews include \"Easy,\" \"Love,\" and \"Free.\" These findings can provide valuable insights for app developers and marketers to improve the performance of their apps on the Google Play Store.\n",
    "\n",
    "<center><img src=\"Google-Play-Logo.png\" width=\"500\" height=\"300\"></center>"
   ]
  }
 ],
 "metadata": {
  "kernelspec": {
   "display_name": "base",
   "language": "python",
   "name": "python3"
  },
  "language_info": {
   "codemirror_mode": {
    "name": "ipython",
    "version": 3
   },
   "file_extension": ".py",
   "mimetype": "text/x-python",
   "name": "python",
   "nbconvert_exporter": "python",
   "pygments_lexer": "ipython3",
   "version": "3.9.13 (main, Aug 25 2022, 23:51:50) [MSC v.1916 64 bit (AMD64)]"
  },
  "vscode": {
   "interpreter": {
    "hash": "018e464278d599a767de9ce1d65d51d5c7ee49522b795dea7dc31dafdfeec7ab"
   }
  }
 },
 "nbformat": 4,
 "nbformat_minor": 5
}
